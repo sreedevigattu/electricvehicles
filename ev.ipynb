{
 "cells": [
  {
   "cell_type": "code",
   "execution_count": 1,
   "metadata": {},
   "outputs": [],
   "source": [
    "import pandas as pd\n",
    "import plotly.graph_objects as go\n",
    "\n",
    "import pprint as pp\n",
    "\n",
    "import warnings\n",
    "warnings.simplefilter(\"ignore\")"
   ]
  },
  {
   "cell_type": "code",
   "execution_count": 2,
   "metadata": {},
   "outputs": [
    {
     "name": "stdout",
     "output_type": "stream",
     "text": [
      "       Zone       State/UT  Evs  870141\n",
      "0     North          Delhi  14%  125347\n",
      "1     North        Haryana   3%   24206\n",
      "2     North         Punjab   1%    8069\n",
      "3     North  Uttar Pradesh  29%  255700\n",
      "4     North    Uttarakhand   3%   23428\n",
      "5      East          Assam   5%   43057\n",
      "6      East          Bihar   7%   58014\n",
      "7      East         Odisha   1%    9887\n",
      "8      East        Tripura   1%    7103\n",
      "9      East    West Bengal   5%   43384\n",
      "10    South      Karnataka   8%   72544\n",
      "11    South         Kerala   1%   11959\n",
      "12    South     Tamil Nadu   5%   44817\n",
      "13     West        Gujarat   2%   13063\n",
      "14     West    Maharashtra   6%   52506\n",
      "15     West      Rajasthan   5%   46862\n",
      "16  Central   Chhattisgarh   1%   11881\n",
      "17  Central      Jharkhand   1%   10954\n"
     ]
    }
   ],
   "source": [
    "df = pd.read_csv(\"data/evs.csv\")\n",
    "print(df)\n",
    "df['Evs'] = df['Evs'].apply(lambda x: x.replace('%',''))\n",
    "df['Evs'] = df['Evs'].astype(int)"
   ]
  },
  {
   "attachments": {},
   "cell_type": "markdown",
   "metadata": {},
   "source": [
    "- Make a map of zone to list of states, number of states\n",
    "- node_labels : iterate keys, values\n",
    "- link_labels : iterate map\n",
    "- node_x_pos  : iterate keys, values\n",
    "- node_y_pos  : \n",
    "    - zone: mid state\n",
    "    - state: state"
   ]
  },
  {
   "attachments": {},
   "cell_type": "markdown",
   "metadata": {},
   "source": [
    "TARGET : \n",
    "[0.05, 0.07, 0.09, 0.11, 0.13]\n",
    "[0.15, 0.17, 0.19, 0.21, 0.23]\n",
    "[0.25, 0.27, 0.29]\n",
    "[0.31, 0.33, 0.35]\n",
    "[0.37, 0.39]\n",
    "\n",
    "\n",
    "[0.05, 0.3, 0.55, 0.8, 1.05]\n",
    "[1.3, 1.55, 1.8, 2.05, 2.3]\n",
    "[2.55, 2.8, 3.05]\n",
    "[3.3, 3.55, 3.8]\n",
    "[4.05, 4.3]"
   ]
  },
  {
   "cell_type": "code",
   "execution_count": 3,
   "metadata": {},
   "outputs": [
    {
     "name": "stdout",
     "output_type": "stream",
     "text": [
      "ZONES :  ['North', 'East', 'South', 'West', 'Central']\n",
      "\n",
      "0 [0.05, 0.07, 0.09, 0.11, 0.13]\n",
      "5 [0.15, 0.17, 0.19, 0.21, 0.23]\n",
      "10 [0.25, 0.27, 0.29]\n",
      "13 [0.31, 0.33, 0.35]\n",
      "16 [0.37, 0.39]\n",
      "{'Central': {'id': 4, 'states': ['Chhattisgarh', 'Jharkhand']},\n",
      " 'East': {'id': 1,\n",
      "          'states': ['Assam', 'Bihar', 'Odisha', 'Tripura', 'West Bengal']},\n",
      " 'North': {'id': 0,\n",
      "           'states': ['Delhi',\n",
      "                      'Haryana',\n",
      "                      'Punjab',\n",
      "                      'Uttar Pradesh',\n",
      "                      'Uttarakhand']},\n",
      " 'South': {'id': 2, 'states': ['Karnataka', 'Kerala', 'Tamil Nadu']},\n",
      " 'West': {'id': 3, 'states': ['Gujarat', 'Maharashtra', 'Rajasthan']}}\n",
      "\n",
      "node_labels :  23 ['North', 'East', 'South', 'West', 'Central', 'Delhi', 'Haryana', 'Punjab', 'Uttar Pradesh', 'Uttarakhand', 'Assam', 'Bihar', 'Odisha', 'Tripura', 'West Bengal', 'Karnataka', 'Kerala', 'Tamil Nadu', 'Gujarat', 'Maharashtra', 'Rajasthan', 'Chhattisgarh', 'Jharkhand']\n",
      "link_labels :  18 ['North-Delhi', 'North-Haryana', 'North-Punjab', 'North-Uttar Pradesh', 'North-Uttarakhand', 'East-Assam', 'East-Bihar', 'East-Odisha', 'East-Tripura', 'East-West Bengal', 'South-Karnataka', 'South-Kerala', 'South-Tamil Nadu', 'West-Gujarat', 'West-Maharashtra', 'West-Rajasthan', 'Central-Chhattisgarh', 'Central-Jharkhand']\n",
      "\n",
      "source :  5 [0, 1, 2, 3, 4]\n",
      "target :  18 [5, 6, 7, 8, 9, 5, 6, 7, 8, 9, 5, 6, 7, 5, 6, 7, 5, 6]\n",
      "\n",
      "node_x_pos :  23 [0.01, 0.01, 0.01, 0.01, 0.01, 0.6, 0.6, 0.6, 0.6, 0.6, 0.6, 0.6, 0.6, 0.6, 0.6, 0.6, 0.6, 0.6, 0.6, 0.6, 0.6, 0.6, 0.6]\n",
      "node_y_pos :  23 [0.01, 0.26, 0.51, 0.76, 1.01, 0.05, 0.07, 0.09, 0.11, 0.13, 0.15, 0.17, 0.19, 0.21, 0.23, 0.25, 0.27, 0.29, 0.31, 0.33, 0.35, 0.37, 0.39]\n",
      "\n"
     ]
    }
   ],
   "source": [
    "ZONES   = df['Zone'].unique().tolist()\n",
    "print(\"ZONES : \", ZONES);print()\n",
    "\n",
    "Y_POS_1 = 1/(5-1)\n",
    "Y_POS_2 = 1/50\n",
    "node_labels = ZONES.copy()\n",
    "node_x_pos = [0.01 for zone in ZONES]\n",
    "node_y_pos, node_state_y_pos = [], []\n",
    "link_labels = []\n",
    "link_values        = df['Evs'].values\n",
    "source, target = [], []\n",
    "ZONE_STATES = {}\n",
    "zone_len = len(ZONES)\n",
    "node_len = zone_len\n",
    "state_len = 0\n",
    "for i in range(zone_len):\n",
    "    zone = ZONES[i]\n",
    "    states = df[df['Zone']==zone]['State/UT'].values.tolist()\n",
    "\n",
    "    source.append(i)\n",
    "    target.extend([node_len + j for j in range(len(states))])\n",
    "\n",
    "    node_labels.extend(states)\n",
    "    link_labels.extend(list(map(lambda x: f\"{zone}-{x}\", states)))\n",
    "\n",
    "    node_x_pos.extend([0.6 for j in range(len(states))])\n",
    "\n",
    "    node_y_pos.append(round(i*0.25+0.01,2))#round(i*Y_POS_1+0.01,2)) #(len(states)/2)*(Y_POS)+0.05,4))\n",
    "\n",
    "    # round((j)*Y_POS+0.05,2)\n",
    "    individual_node_state_y_pos = [ round((state_len + j)*Y_POS_2+0.05, 2) for j in range(len(states)) ]\n",
    "    print(state_len, individual_node_state_y_pos)\n",
    "    node_state_y_pos.extend(individual_node_state_y_pos)\n",
    "\n",
    "    state_len += len(states)\n",
    "\n",
    "    ZONE_STATES[zone] = { \"id\" : i, \"states\" : states }\n",
    "\n",
    "node_y_pos.extend(node_state_y_pos)\n",
    "\n",
    "pp.pprint(ZONE_STATES);print()\n",
    "\n",
    "print('node_labels : ', len(node_labels), node_labels)\n",
    "print('link_labels : ', len(link_labels), link_labels);print()\n",
    "print('source : ', len(source), source)\n",
    "print('target : ', len(target), target);print()\n",
    "\n",
    "print('node_x_pos : ', len(node_x_pos), node_x_pos)\n",
    "print('node_y_pos : ', len(node_y_pos), node_y_pos);print()\n"
   ]
  },
  {
   "cell_type": "code",
   "execution_count": 4,
   "metadata": {},
   "outputs": [
    {
     "data": {
      "application/vnd.plotly.v1+json": {
       "config": {
        "plotlyServerURL": "https://plot.ly"
       },
       "data": [
        {
         "arrangement": "snap",
         "link": {
          "hovertemplate": "%{label}",
          "label": [
           "North-Delhi",
           "North-Haryana",
           "North-Punjab",
           "North-Uttar Pradesh",
           "North-Uttarakhand",
           "East-Assam",
           "East-Bihar",
           "East-Odisha",
           "East-Tripura",
           "East-West Bengal",
           "South-Karnataka",
           "South-Kerala",
           "South-Tamil Nadu",
           "West-Gujarat",
           "West-Maharashtra",
           "West-Rajasthan",
           "Central-Chhattisgarh",
           "Central-Jharkhand"
          ],
          "source": [
           0,
           1,
           2,
           3,
           4
          ],
          "target": [
           5,
           6,
           7,
           8,
           9,
           5,
           6,
           7,
           8,
           9,
           5,
           6,
           7,
           5,
           6,
           7,
           5,
           6
          ],
          "value": [
           14,
           3,
           1,
           29,
           3,
           5,
           7,
           1,
           1,
           5,
           8,
           1,
           5,
           2,
           6,
           5,
           1,
           1
          ]
         },
         "node": {
          "hovertemplate": " ",
          "label": [
           "North",
           "East",
           "South",
           "West",
           "Central",
           "Delhi",
           "Haryana",
           "Punjab",
           "Uttar Pradesh",
           "Uttarakhand",
           "Assam",
           "Bihar",
           "Odisha",
           "Tripura",
           "West Bengal",
           "Karnataka",
           "Kerala",
           "Tamil Nadu",
           "Gujarat",
           "Maharashtra",
           "Rajasthan",
           "Chhattisgarh",
           "Jharkhand"
          ],
          "line": {
           "color": "lightslategrey",
           "width": 0.5
          },
          "pad": 20,
          "thickness": 20,
          "x": [
           0.01,
           0.01,
           0.01,
           0.01,
           0.01,
           0.6,
           0.6,
           0.6,
           0.6,
           0.6,
           0.6,
           0.6,
           0.6,
           0.6,
           0.6,
           0.6,
           0.6,
           0.6,
           0.6,
           0.6,
           0.6,
           0.6,
           0.6
          ],
          "y": [
           0.01,
           0.26,
           0.51,
           0.76,
           1.01,
           0.05,
           0.07,
           0.09,
           0.11,
           0.13,
           0.15,
           0.17,
           0.19,
           0.21,
           0.23,
           0.25,
           0.27,
           0.29,
           0.31,
           0.33,
           0.35,
           0.37,
           0.39
          ]
         },
         "type": "sankey",
         "valueformat": "3d",
         "valuesuffix": " %"
        }
       ],
       "layout": {
        "font": {
         "size": 16
        },
        "height": 1000,
        "hoverlabel": {
         "bgcolor": "grey",
         "font": {
          "family": "Rockwell",
          "size": 14
         }
        },
        "template": {
         "data": {
          "bar": [
           {
            "error_x": {
             "color": "#2a3f5f"
            },
            "error_y": {
             "color": "#2a3f5f"
            },
            "marker": {
             "line": {
              "color": "#E5ECF6",
              "width": 0.5
             },
             "pattern": {
              "fillmode": "overlay",
              "size": 10,
              "solidity": 0.2
             }
            },
            "type": "bar"
           }
          ],
          "barpolar": [
           {
            "marker": {
             "line": {
              "color": "#E5ECF6",
              "width": 0.5
             },
             "pattern": {
              "fillmode": "overlay",
              "size": 10,
              "solidity": 0.2
             }
            },
            "type": "barpolar"
           }
          ],
          "carpet": [
           {
            "aaxis": {
             "endlinecolor": "#2a3f5f",
             "gridcolor": "white",
             "linecolor": "white",
             "minorgridcolor": "white",
             "startlinecolor": "#2a3f5f"
            },
            "baxis": {
             "endlinecolor": "#2a3f5f",
             "gridcolor": "white",
             "linecolor": "white",
             "minorgridcolor": "white",
             "startlinecolor": "#2a3f5f"
            },
            "type": "carpet"
           }
          ],
          "choropleth": [
           {
            "colorbar": {
             "outlinewidth": 0,
             "ticks": ""
            },
            "type": "choropleth"
           }
          ],
          "contour": [
           {
            "colorbar": {
             "outlinewidth": 0,
             "ticks": ""
            },
            "colorscale": [
             [
              0,
              "#0d0887"
             ],
             [
              0.1111111111111111,
              "#46039f"
             ],
             [
              0.2222222222222222,
              "#7201a8"
             ],
             [
              0.3333333333333333,
              "#9c179e"
             ],
             [
              0.4444444444444444,
              "#bd3786"
             ],
             [
              0.5555555555555556,
              "#d8576b"
             ],
             [
              0.6666666666666666,
              "#ed7953"
             ],
             [
              0.7777777777777778,
              "#fb9f3a"
             ],
             [
              0.8888888888888888,
              "#fdca26"
             ],
             [
              1,
              "#f0f921"
             ]
            ],
            "type": "contour"
           }
          ],
          "contourcarpet": [
           {
            "colorbar": {
             "outlinewidth": 0,
             "ticks": ""
            },
            "type": "contourcarpet"
           }
          ],
          "heatmap": [
           {
            "colorbar": {
             "outlinewidth": 0,
             "ticks": ""
            },
            "colorscale": [
             [
              0,
              "#0d0887"
             ],
             [
              0.1111111111111111,
              "#46039f"
             ],
             [
              0.2222222222222222,
              "#7201a8"
             ],
             [
              0.3333333333333333,
              "#9c179e"
             ],
             [
              0.4444444444444444,
              "#bd3786"
             ],
             [
              0.5555555555555556,
              "#d8576b"
             ],
             [
              0.6666666666666666,
              "#ed7953"
             ],
             [
              0.7777777777777778,
              "#fb9f3a"
             ],
             [
              0.8888888888888888,
              "#fdca26"
             ],
             [
              1,
              "#f0f921"
             ]
            ],
            "type": "heatmap"
           }
          ],
          "heatmapgl": [
           {
            "colorbar": {
             "outlinewidth": 0,
             "ticks": ""
            },
            "colorscale": [
             [
              0,
              "#0d0887"
             ],
             [
              0.1111111111111111,
              "#46039f"
             ],
             [
              0.2222222222222222,
              "#7201a8"
             ],
             [
              0.3333333333333333,
              "#9c179e"
             ],
             [
              0.4444444444444444,
              "#bd3786"
             ],
             [
              0.5555555555555556,
              "#d8576b"
             ],
             [
              0.6666666666666666,
              "#ed7953"
             ],
             [
              0.7777777777777778,
              "#fb9f3a"
             ],
             [
              0.8888888888888888,
              "#fdca26"
             ],
             [
              1,
              "#f0f921"
             ]
            ],
            "type": "heatmapgl"
           }
          ],
          "histogram": [
           {
            "marker": {
             "pattern": {
              "fillmode": "overlay",
              "size": 10,
              "solidity": 0.2
             }
            },
            "type": "histogram"
           }
          ],
          "histogram2d": [
           {
            "colorbar": {
             "outlinewidth": 0,
             "ticks": ""
            },
            "colorscale": [
             [
              0,
              "#0d0887"
             ],
             [
              0.1111111111111111,
              "#46039f"
             ],
             [
              0.2222222222222222,
              "#7201a8"
             ],
             [
              0.3333333333333333,
              "#9c179e"
             ],
             [
              0.4444444444444444,
              "#bd3786"
             ],
             [
              0.5555555555555556,
              "#d8576b"
             ],
             [
              0.6666666666666666,
              "#ed7953"
             ],
             [
              0.7777777777777778,
              "#fb9f3a"
             ],
             [
              0.8888888888888888,
              "#fdca26"
             ],
             [
              1,
              "#f0f921"
             ]
            ],
            "type": "histogram2d"
           }
          ],
          "histogram2dcontour": [
           {
            "colorbar": {
             "outlinewidth": 0,
             "ticks": ""
            },
            "colorscale": [
             [
              0,
              "#0d0887"
             ],
             [
              0.1111111111111111,
              "#46039f"
             ],
             [
              0.2222222222222222,
              "#7201a8"
             ],
             [
              0.3333333333333333,
              "#9c179e"
             ],
             [
              0.4444444444444444,
              "#bd3786"
             ],
             [
              0.5555555555555556,
              "#d8576b"
             ],
             [
              0.6666666666666666,
              "#ed7953"
             ],
             [
              0.7777777777777778,
              "#fb9f3a"
             ],
             [
              0.8888888888888888,
              "#fdca26"
             ],
             [
              1,
              "#f0f921"
             ]
            ],
            "type": "histogram2dcontour"
           }
          ],
          "mesh3d": [
           {
            "colorbar": {
             "outlinewidth": 0,
             "ticks": ""
            },
            "type": "mesh3d"
           }
          ],
          "parcoords": [
           {
            "line": {
             "colorbar": {
              "outlinewidth": 0,
              "ticks": ""
             }
            },
            "type": "parcoords"
           }
          ],
          "pie": [
           {
            "automargin": true,
            "type": "pie"
           }
          ],
          "scatter": [
           {
            "marker": {
             "colorbar": {
              "outlinewidth": 0,
              "ticks": ""
             }
            },
            "type": "scatter"
           }
          ],
          "scatter3d": [
           {
            "line": {
             "colorbar": {
              "outlinewidth": 0,
              "ticks": ""
             }
            },
            "marker": {
             "colorbar": {
              "outlinewidth": 0,
              "ticks": ""
             }
            },
            "type": "scatter3d"
           }
          ],
          "scattercarpet": [
           {
            "marker": {
             "colorbar": {
              "outlinewidth": 0,
              "ticks": ""
             }
            },
            "type": "scattercarpet"
           }
          ],
          "scattergeo": [
           {
            "marker": {
             "colorbar": {
              "outlinewidth": 0,
              "ticks": ""
             }
            },
            "type": "scattergeo"
           }
          ],
          "scattergl": [
           {
            "marker": {
             "colorbar": {
              "outlinewidth": 0,
              "ticks": ""
             }
            },
            "type": "scattergl"
           }
          ],
          "scattermapbox": [
           {
            "marker": {
             "colorbar": {
              "outlinewidth": 0,
              "ticks": ""
             }
            },
            "type": "scattermapbox"
           }
          ],
          "scatterpolar": [
           {
            "marker": {
             "colorbar": {
              "outlinewidth": 0,
              "ticks": ""
             }
            },
            "type": "scatterpolar"
           }
          ],
          "scatterpolargl": [
           {
            "marker": {
             "colorbar": {
              "outlinewidth": 0,
              "ticks": ""
             }
            },
            "type": "scatterpolargl"
           }
          ],
          "scatterternary": [
           {
            "marker": {
             "colorbar": {
              "outlinewidth": 0,
              "ticks": ""
             }
            },
            "type": "scatterternary"
           }
          ],
          "surface": [
           {
            "colorbar": {
             "outlinewidth": 0,
             "ticks": ""
            },
            "colorscale": [
             [
              0,
              "#0d0887"
             ],
             [
              0.1111111111111111,
              "#46039f"
             ],
             [
              0.2222222222222222,
              "#7201a8"
             ],
             [
              0.3333333333333333,
              "#9c179e"
             ],
             [
              0.4444444444444444,
              "#bd3786"
             ],
             [
              0.5555555555555556,
              "#d8576b"
             ],
             [
              0.6666666666666666,
              "#ed7953"
             ],
             [
              0.7777777777777778,
              "#fb9f3a"
             ],
             [
              0.8888888888888888,
              "#fdca26"
             ],
             [
              1,
              "#f0f921"
             ]
            ],
            "type": "surface"
           }
          ],
          "table": [
           {
            "cells": {
             "fill": {
              "color": "#EBF0F8"
             },
             "line": {
              "color": "white"
             }
            },
            "header": {
             "fill": {
              "color": "#C8D4E3"
             },
             "line": {
              "color": "white"
             }
            },
            "type": "table"
           }
          ]
         },
         "layout": {
          "annotationdefaults": {
           "arrowcolor": "#2a3f5f",
           "arrowhead": 0,
           "arrowwidth": 1
          },
          "autotypenumbers": "strict",
          "coloraxis": {
           "colorbar": {
            "outlinewidth": 0,
            "ticks": ""
           }
          },
          "colorscale": {
           "diverging": [
            [
             0,
             "#8e0152"
            ],
            [
             0.1,
             "#c51b7d"
            ],
            [
             0.2,
             "#de77ae"
            ],
            [
             0.3,
             "#f1b6da"
            ],
            [
             0.4,
             "#fde0ef"
            ],
            [
             0.5,
             "#f7f7f7"
            ],
            [
             0.6,
             "#e6f5d0"
            ],
            [
             0.7,
             "#b8e186"
            ],
            [
             0.8,
             "#7fbc41"
            ],
            [
             0.9,
             "#4d9221"
            ],
            [
             1,
             "#276419"
            ]
           ],
           "sequential": [
            [
             0,
             "#0d0887"
            ],
            [
             0.1111111111111111,
             "#46039f"
            ],
            [
             0.2222222222222222,
             "#7201a8"
            ],
            [
             0.3333333333333333,
             "#9c179e"
            ],
            [
             0.4444444444444444,
             "#bd3786"
            ],
            [
             0.5555555555555556,
             "#d8576b"
            ],
            [
             0.6666666666666666,
             "#ed7953"
            ],
            [
             0.7777777777777778,
             "#fb9f3a"
            ],
            [
             0.8888888888888888,
             "#fdca26"
            ],
            [
             1,
             "#f0f921"
            ]
           ],
           "sequentialminus": [
            [
             0,
             "#0d0887"
            ],
            [
             0.1111111111111111,
             "#46039f"
            ],
            [
             0.2222222222222222,
             "#7201a8"
            ],
            [
             0.3333333333333333,
             "#9c179e"
            ],
            [
             0.4444444444444444,
             "#bd3786"
            ],
            [
             0.5555555555555556,
             "#d8576b"
            ],
            [
             0.6666666666666666,
             "#ed7953"
            ],
            [
             0.7777777777777778,
             "#fb9f3a"
            ],
            [
             0.8888888888888888,
             "#fdca26"
            ],
            [
             1,
             "#f0f921"
            ]
           ]
          },
          "colorway": [
           "#636efa",
           "#EF553B",
           "#00cc96",
           "#ab63fa",
           "#FFA15A",
           "#19d3f3",
           "#FF6692",
           "#B6E880",
           "#FF97FF",
           "#FECB52"
          ],
          "font": {
           "color": "#2a3f5f"
          },
          "geo": {
           "bgcolor": "white",
           "lakecolor": "white",
           "landcolor": "#E5ECF6",
           "showlakes": true,
           "showland": true,
           "subunitcolor": "white"
          },
          "hoverlabel": {
           "align": "left"
          },
          "hovermode": "closest",
          "mapbox": {
           "style": "light"
          },
          "paper_bgcolor": "white",
          "plot_bgcolor": "#E5ECF6",
          "polar": {
           "angularaxis": {
            "gridcolor": "white",
            "linecolor": "white",
            "ticks": ""
           },
           "bgcolor": "#E5ECF6",
           "radialaxis": {
            "gridcolor": "white",
            "linecolor": "white",
            "ticks": ""
           }
          },
          "scene": {
           "xaxis": {
            "backgroundcolor": "#E5ECF6",
            "gridcolor": "white",
            "gridwidth": 2,
            "linecolor": "white",
            "showbackground": true,
            "ticks": "",
            "zerolinecolor": "white"
           },
           "yaxis": {
            "backgroundcolor": "#E5ECF6",
            "gridcolor": "white",
            "gridwidth": 2,
            "linecolor": "white",
            "showbackground": true,
            "ticks": "",
            "zerolinecolor": "white"
           },
           "zaxis": {
            "backgroundcolor": "#E5ECF6",
            "gridcolor": "white",
            "gridwidth": 2,
            "linecolor": "white",
            "showbackground": true,
            "ticks": "",
            "zerolinecolor": "white"
           }
          },
          "shapedefaults": {
           "line": {
            "color": "#2a3f5f"
           }
          },
          "ternary": {
           "aaxis": {
            "gridcolor": "white",
            "linecolor": "white",
            "ticks": ""
           },
           "baxis": {
            "gridcolor": "white",
            "linecolor": "white",
            "ticks": ""
           },
           "bgcolor": "#E5ECF6",
           "caxis": {
            "gridcolor": "white",
            "linecolor": "white",
            "ticks": ""
           }
          },
          "title": {
           "x": 0.05
          },
          "xaxis": {
           "automargin": true,
           "gridcolor": "white",
           "linecolor": "white",
           "ticks": "",
           "title": {
            "standoff": 15
           },
           "zerolinecolor": "white",
           "zerolinewidth": 2
          },
          "yaxis": {
           "automargin": true,
           "gridcolor": "white",
           "linecolor": "white",
           "ticks": "",
           "title": {
            "standoff": 15
           },
           "zerolinecolor": "white",
           "zerolinewidth": 2
          }
         }
        },
        "title": {
         "text": "EVs - Zone & State"
        },
        "width": 1200
       }
      }
     },
     "metadata": {},
     "output_type": "display_data"
    }
   ],
   "source": [
    "# Display the figure\n",
    "NODES = dict(pad  = 20, thickness = 20, line  = dict(color = \"lightslategrey\", width = 0.5),hovertemplate=\" \",\n",
    "            label = node_labels, x = node_x_pos, y = node_y_pos,)# color = node_colors)\n",
    "\n",
    "LINKS = dict(source = source, target = target, value = link_values, \n",
    "            label = link_labels,#color = link_colors,\n",
    "            hovertemplate=\"%{label}\",)\n",
    "\n",
    "data = go.Sankey( arrangement='snap', node = NODES, link = LINKS)\n",
    "fig = go.Figure(data)\n",
    "fig.update_traces( valueformat='3d', valuesuffix=' %', selector=dict(type='sankey'))\n",
    "fig.update_layout(title=\"EVs - Zone & State\",  font_size=16,  width=1200,height=1000,)\n",
    "fig.update_layout(hoverlabel=dict( bgcolor=\"grey\", font_size=14, font_family=\"Rockwell\"))\n",
    "fig.show()"
   ]
  },
  {
   "cell_type": "code",
   "execution_count": 5,
   "metadata": {},
   "outputs": [
    {
     "name": "stdout",
     "output_type": "stream",
     "text": [
      "node_labels 23 ['North', 'East', 'South', 'West', 'Central', 'Delhi', 'Haryana', 'Punjab', 'Uttar Pradesh', 'Uttarakhand', 'Assam', 'Bihar', 'Odisha', 'Tripura', 'West Bengal', 'Karnataka', 'Kerala', 'Tamil Nadu', 'Gujarat', 'Maharashtra', 'Rajasthan', 'Chhattisgarh', 'Jharkhand']\n",
      "node_x_pos 23 [0.01, 0.01, 0.01, 0.01, 0.01, 0.6, 0.6, 0.6, 0.6, 0.6, 0.6, 0.6, 0.6, 0.6, 0.6, 0.6, 0.6, 0.6, 0.6, 0.6, 0.6, 0.6, 0.6]\n",
      "node_y_pos 23 [0.01, 0.26, 0.51, 0.76, 1.01, 0.05, 0.07, 0.09, 0.11, 0.13, 0.15, 0.17, 0.19, 0.21, 0.23, 0.25, 0.27, 0.29, 0.31, 0.33, 0.35, 0.37, 0.39]\n",
      "source 18 [0 0 0 0 0 1 1 1 1 1 2 2 2 3 3 3 4 4]\n",
      "target 18 [ 5  6  7  8  9 10 11 12 13 14 15 16 17 18 19 20 21 22]\n",
      "link_labels 18 ['North-Delhi', 'North-Haryana', 'North-Punjab', 'North-Uttar Pradesh', 'North-Uttarakhand', 'East-Assam', 'East-Bihar', 'East-Odisha', 'East-Tripura', 'East-West Bengal', 'South-Karnataka', 'South-Kerala', 'South-Tamil Nadu', 'West-Gujarat', 'West-Maharashtra', 'West-Rajasthan', 'Central-Chhattisgarh', 'Central-Jharkhand']\n",
      "link_values 18 [14  3  1 29  3  5  7  1  1  5  8  1  5  2  6  5  1  1]\n",
      "link_colors 15 ['lightgreen', 'lightgreen', 'lightgreen', 'lightskyblue', 'lightskyblue', 'lightskyblue', 'bisque', 'bisque', 'bisque', 'pink', 'pink', 'pink', 'lightcyan', 'lightcyan', 'lightcyan']\n"
     ]
    }
   ],
   "source": [
    "NODE_COLORS = [\"seagreen\", \"dodgerblue\", \"orange\", \"palevioletred\", \"darkcyan\"]\n",
    "LINK_COLORS = [\"lightgreen\", \"lightskyblue\", \"bisque\", \"pink\", \"lightcyan\"]\n",
    "\n",
    "ZONES   = df['Zone'].unique().tolist()\n",
    "STATES  = df['State/UT'].unique().tolist()\n",
    "NODES   = ZONES + STATES\n",
    "\n",
    "NODES_ID = {}\n",
    "num = 0\n",
    "for node in NODES:\n",
    "    NODES_ID[node] = num\n",
    "\n",
    "node_x_pos, node_y_pos      = [], []\n",
    "node_labels        = NODES\n",
    "node_colors        = NODE_COLORS\n",
    "link_labels        = (df['Zone'] + \"-\" + df['State/UT']).values.tolist()\n",
    "link_values        = df['Evs'].values\n",
    "link_colors        = []\n",
    "\n",
    "\n",
    "NODES_ZONES = {}\n",
    "num = 0\n",
    "Y_POS = 1/(5-1)\n",
    "for zone in ZONES:\n",
    "    NODES_ZONES[zone] = num\n",
    "    node_x_pos.append(0.01)\n",
    "    node_y_pos.append(round(num*Y_POS+0.01,2))\n",
    "    link_colors.extend([LINK_COLORS[num]]*3)\n",
    "    num += 1\n",
    "\n",
    "df['source'] = df['Zone'].apply(lambda x: NODES_ZONES[x])\n",
    "source = df['source'].values\n",
    "\n",
    "\n",
    "NODES_STATES = {}\n",
    "X_POS = 0.6\n",
    "Y_POS = 1/50\n",
    "for state in STATES:\n",
    "    NODES_STATES[state] = num\n",
    "    node_x_pos.append(X_POS)\n",
    "    node_y_pos.append(round((num-5)*Y_POS+0.05,2)) # \n",
    "    num += 1\n",
    "\n",
    "df['target'] = df['State/UT'].apply(lambda x: NODES_STATES[x])\n",
    "target = df['target'].values\n",
    "\n",
    "\n",
    "\n",
    "\n",
    "#node_labels.extend(list(NODES_ZONES.keys()))\n",
    "#node_labels.extend(list(NODES_STATES.keys()))\n",
    "\n",
    "\n",
    "print(\"node_labels\",len(node_labels),node_labels)\n",
    "print(\"node_x_pos\",len(node_x_pos),node_x_pos)\n",
    "print(\"node_y_pos\",len(node_y_pos),node_y_pos)\n",
    "print(\"source\", len(source), source)\n",
    "print(\"target\", len(target), target)\n",
    "print(\"link_labels\", len(link_labels), link_labels)\n",
    "print(\"link_values\", len(link_values), link_values)\n",
    "print(\"link_colors\", len(link_colors), link_colors)"
   ]
  },
  {
   "attachments": {},
   "cell_type": "markdown",
   "metadata": {},
   "source": [
    "[0.01, 0.26, 0.51, 0.76, 1.01, 0.05, 0.07, 0.09, 0.11, 0.13, 0.15, 0.17, 0.19, 0.21, 0.23, 0.25, 0.27, 0.29, 0.31, 0.33, 0.35, 0.37, 0.39]\n"
   ]
  },
  {
   "cell_type": "code",
   "execution_count": 11,
   "metadata": {},
   "outputs": [
    {
     "data": {
      "application/vnd.plotly.v1+json": {
       "config": {
        "plotlyServerURL": "https://plot.ly"
       },
       "data": [
        {
         "arrangement": "snap",
         "link": {
          "color": [
           "lightgreen",
           "lightgreen",
           "lightgreen",
           "lightskyblue",
           "lightskyblue",
           "lightskyblue",
           "bisque",
           "bisque",
           "bisque",
           "pink",
           "pink",
           "pink",
           "lightcyan",
           "lightcyan",
           "lightcyan"
          ],
          "hovertemplate": "%{label}",
          "label": [
           "North-Delhi",
           "North-Haryana",
           "North-Punjab",
           "North-Uttar Pradesh",
           "North-Uttarakhand",
           "East-Assam",
           "East-Bihar",
           "East-Odisha",
           "East-Tripura",
           "East-West Bengal",
           "South-Karnataka",
           "South-Kerala",
           "South-Tamil Nadu",
           "West-Gujarat",
           "West-Maharashtra",
           "West-Rajasthan",
           "Central-Chhattisgarh",
           "Central-Jharkhand"
          ],
          "source": [
           0,
           0,
           0,
           0,
           0,
           1,
           1,
           1,
           1,
           1,
           2,
           2,
           2,
           3,
           3,
           3,
           4,
           4
          ],
          "target": [
           5,
           6,
           7,
           8,
           9,
           10,
           11,
           12,
           13,
           14,
           15,
           16,
           17,
           18,
           19,
           20,
           21,
           22
          ],
          "value": [
           14,
           3,
           1,
           29,
           3,
           5,
           7,
           1,
           1,
           5,
           8,
           1,
           5,
           2,
           6,
           5,
           1,
           1
          ]
         },
         "node": {
          "color": [
           "seagreen",
           "dodgerblue",
           "orange",
           "palevioletred",
           "darkcyan"
          ],
          "hovertemplate": " ",
          "label": [
           "North",
           "East",
           "South",
           "West",
           "Central",
           "Delhi",
           "Haryana",
           "Punjab",
           "Uttar Pradesh",
           "Uttarakhand",
           "Assam",
           "Bihar",
           "Odisha",
           "Tripura",
           "West Bengal",
           "Karnataka",
           "Kerala",
           "Tamil Nadu",
           "Gujarat",
           "Maharashtra",
           "Rajasthan",
           "Chhattisgarh",
           "Jharkhand"
          ],
          "line": {
           "color": "lightslategrey",
           "width": 0.5
          },
          "pad": 20,
          "thickness": 20,
          "x": [
           0.01,
           0.01,
           0.01,
           0.01,
           0.01,
           0.6,
           0.6,
           0.6,
           0.6,
           0.6,
           0.6,
           0.6,
           0.6,
           0.6,
           0.6,
           0.6,
           0.6,
           0.6,
           0.6,
           0.6,
           0.6,
           0.6,
           0.6
          ],
          "y": [
           0.01,
           0.26,
           0.51,
           0.76,
           1.01,
           0.05,
           0.07,
           0.09,
           0.11,
           0.13,
           0.15,
           0.17,
           0.19,
           0.21,
           0.23,
           0.25,
           0.27,
           0.29,
           0.31,
           0.33,
           0.35,
           0.37,
           0.39
          ]
         },
         "type": "sankey",
         "valueformat": "3d",
         "valuesuffix": " %"
        }
       ],
       "layout": {
        "font": {
         "size": 16
        },
        "height": 600,
        "hoverlabel": {
         "bgcolor": "grey",
         "font": {
          "family": "Rockwell",
          "size": 14
         }
        },
        "template": {
         "data": {
          "bar": [
           {
            "error_x": {
             "color": "#2a3f5f"
            },
            "error_y": {
             "color": "#2a3f5f"
            },
            "marker": {
             "line": {
              "color": "#E5ECF6",
              "width": 0.5
             },
             "pattern": {
              "fillmode": "overlay",
              "size": 10,
              "solidity": 0.2
             }
            },
            "type": "bar"
           }
          ],
          "barpolar": [
           {
            "marker": {
             "line": {
              "color": "#E5ECF6",
              "width": 0.5
             },
             "pattern": {
              "fillmode": "overlay",
              "size": 10,
              "solidity": 0.2
             }
            },
            "type": "barpolar"
           }
          ],
          "carpet": [
           {
            "aaxis": {
             "endlinecolor": "#2a3f5f",
             "gridcolor": "white",
             "linecolor": "white",
             "minorgridcolor": "white",
             "startlinecolor": "#2a3f5f"
            },
            "baxis": {
             "endlinecolor": "#2a3f5f",
             "gridcolor": "white",
             "linecolor": "white",
             "minorgridcolor": "white",
             "startlinecolor": "#2a3f5f"
            },
            "type": "carpet"
           }
          ],
          "choropleth": [
           {
            "colorbar": {
             "outlinewidth": 0,
             "ticks": ""
            },
            "type": "choropleth"
           }
          ],
          "contour": [
           {
            "colorbar": {
             "outlinewidth": 0,
             "ticks": ""
            },
            "colorscale": [
             [
              0,
              "#0d0887"
             ],
             [
              0.1111111111111111,
              "#46039f"
             ],
             [
              0.2222222222222222,
              "#7201a8"
             ],
             [
              0.3333333333333333,
              "#9c179e"
             ],
             [
              0.4444444444444444,
              "#bd3786"
             ],
             [
              0.5555555555555556,
              "#d8576b"
             ],
             [
              0.6666666666666666,
              "#ed7953"
             ],
             [
              0.7777777777777778,
              "#fb9f3a"
             ],
             [
              0.8888888888888888,
              "#fdca26"
             ],
             [
              1,
              "#f0f921"
             ]
            ],
            "type": "contour"
           }
          ],
          "contourcarpet": [
           {
            "colorbar": {
             "outlinewidth": 0,
             "ticks": ""
            },
            "type": "contourcarpet"
           }
          ],
          "heatmap": [
           {
            "colorbar": {
             "outlinewidth": 0,
             "ticks": ""
            },
            "colorscale": [
             [
              0,
              "#0d0887"
             ],
             [
              0.1111111111111111,
              "#46039f"
             ],
             [
              0.2222222222222222,
              "#7201a8"
             ],
             [
              0.3333333333333333,
              "#9c179e"
             ],
             [
              0.4444444444444444,
              "#bd3786"
             ],
             [
              0.5555555555555556,
              "#d8576b"
             ],
             [
              0.6666666666666666,
              "#ed7953"
             ],
             [
              0.7777777777777778,
              "#fb9f3a"
             ],
             [
              0.8888888888888888,
              "#fdca26"
             ],
             [
              1,
              "#f0f921"
             ]
            ],
            "type": "heatmap"
           }
          ],
          "heatmapgl": [
           {
            "colorbar": {
             "outlinewidth": 0,
             "ticks": ""
            },
            "colorscale": [
             [
              0,
              "#0d0887"
             ],
             [
              0.1111111111111111,
              "#46039f"
             ],
             [
              0.2222222222222222,
              "#7201a8"
             ],
             [
              0.3333333333333333,
              "#9c179e"
             ],
             [
              0.4444444444444444,
              "#bd3786"
             ],
             [
              0.5555555555555556,
              "#d8576b"
             ],
             [
              0.6666666666666666,
              "#ed7953"
             ],
             [
              0.7777777777777778,
              "#fb9f3a"
             ],
             [
              0.8888888888888888,
              "#fdca26"
             ],
             [
              1,
              "#f0f921"
             ]
            ],
            "type": "heatmapgl"
           }
          ],
          "histogram": [
           {
            "marker": {
             "pattern": {
              "fillmode": "overlay",
              "size": 10,
              "solidity": 0.2
             }
            },
            "type": "histogram"
           }
          ],
          "histogram2d": [
           {
            "colorbar": {
             "outlinewidth": 0,
             "ticks": ""
            },
            "colorscale": [
             [
              0,
              "#0d0887"
             ],
             [
              0.1111111111111111,
              "#46039f"
             ],
             [
              0.2222222222222222,
              "#7201a8"
             ],
             [
              0.3333333333333333,
              "#9c179e"
             ],
             [
              0.4444444444444444,
              "#bd3786"
             ],
             [
              0.5555555555555556,
              "#d8576b"
             ],
             [
              0.6666666666666666,
              "#ed7953"
             ],
             [
              0.7777777777777778,
              "#fb9f3a"
             ],
             [
              0.8888888888888888,
              "#fdca26"
             ],
             [
              1,
              "#f0f921"
             ]
            ],
            "type": "histogram2d"
           }
          ],
          "histogram2dcontour": [
           {
            "colorbar": {
             "outlinewidth": 0,
             "ticks": ""
            },
            "colorscale": [
             [
              0,
              "#0d0887"
             ],
             [
              0.1111111111111111,
              "#46039f"
             ],
             [
              0.2222222222222222,
              "#7201a8"
             ],
             [
              0.3333333333333333,
              "#9c179e"
             ],
             [
              0.4444444444444444,
              "#bd3786"
             ],
             [
              0.5555555555555556,
              "#d8576b"
             ],
             [
              0.6666666666666666,
              "#ed7953"
             ],
             [
              0.7777777777777778,
              "#fb9f3a"
             ],
             [
              0.8888888888888888,
              "#fdca26"
             ],
             [
              1,
              "#f0f921"
             ]
            ],
            "type": "histogram2dcontour"
           }
          ],
          "mesh3d": [
           {
            "colorbar": {
             "outlinewidth": 0,
             "ticks": ""
            },
            "type": "mesh3d"
           }
          ],
          "parcoords": [
           {
            "line": {
             "colorbar": {
              "outlinewidth": 0,
              "ticks": ""
             }
            },
            "type": "parcoords"
           }
          ],
          "pie": [
           {
            "automargin": true,
            "type": "pie"
           }
          ],
          "scatter": [
           {
            "marker": {
             "colorbar": {
              "outlinewidth": 0,
              "ticks": ""
             }
            },
            "type": "scatter"
           }
          ],
          "scatter3d": [
           {
            "line": {
             "colorbar": {
              "outlinewidth": 0,
              "ticks": ""
             }
            },
            "marker": {
             "colorbar": {
              "outlinewidth": 0,
              "ticks": ""
             }
            },
            "type": "scatter3d"
           }
          ],
          "scattercarpet": [
           {
            "marker": {
             "colorbar": {
              "outlinewidth": 0,
              "ticks": ""
             }
            },
            "type": "scattercarpet"
           }
          ],
          "scattergeo": [
           {
            "marker": {
             "colorbar": {
              "outlinewidth": 0,
              "ticks": ""
             }
            },
            "type": "scattergeo"
           }
          ],
          "scattergl": [
           {
            "marker": {
             "colorbar": {
              "outlinewidth": 0,
              "ticks": ""
             }
            },
            "type": "scattergl"
           }
          ],
          "scattermapbox": [
           {
            "marker": {
             "colorbar": {
              "outlinewidth": 0,
              "ticks": ""
             }
            },
            "type": "scattermapbox"
           }
          ],
          "scatterpolar": [
           {
            "marker": {
             "colorbar": {
              "outlinewidth": 0,
              "ticks": ""
             }
            },
            "type": "scatterpolar"
           }
          ],
          "scatterpolargl": [
           {
            "marker": {
             "colorbar": {
              "outlinewidth": 0,
              "ticks": ""
             }
            },
            "type": "scatterpolargl"
           }
          ],
          "scatterternary": [
           {
            "marker": {
             "colorbar": {
              "outlinewidth": 0,
              "ticks": ""
             }
            },
            "type": "scatterternary"
           }
          ],
          "surface": [
           {
            "colorbar": {
             "outlinewidth": 0,
             "ticks": ""
            },
            "colorscale": [
             [
              0,
              "#0d0887"
             ],
             [
              0.1111111111111111,
              "#46039f"
             ],
             [
              0.2222222222222222,
              "#7201a8"
             ],
             [
              0.3333333333333333,
              "#9c179e"
             ],
             [
              0.4444444444444444,
              "#bd3786"
             ],
             [
              0.5555555555555556,
              "#d8576b"
             ],
             [
              0.6666666666666666,
              "#ed7953"
             ],
             [
              0.7777777777777778,
              "#fb9f3a"
             ],
             [
              0.8888888888888888,
              "#fdca26"
             ],
             [
              1,
              "#f0f921"
             ]
            ],
            "type": "surface"
           }
          ],
          "table": [
           {
            "cells": {
             "fill": {
              "color": "#EBF0F8"
             },
             "line": {
              "color": "white"
             }
            },
            "header": {
             "fill": {
              "color": "#C8D4E3"
             },
             "line": {
              "color": "white"
             }
            },
            "type": "table"
           }
          ]
         },
         "layout": {
          "annotationdefaults": {
           "arrowcolor": "#2a3f5f",
           "arrowhead": 0,
           "arrowwidth": 1
          },
          "autotypenumbers": "strict",
          "coloraxis": {
           "colorbar": {
            "outlinewidth": 0,
            "ticks": ""
           }
          },
          "colorscale": {
           "diverging": [
            [
             0,
             "#8e0152"
            ],
            [
             0.1,
             "#c51b7d"
            ],
            [
             0.2,
             "#de77ae"
            ],
            [
             0.3,
             "#f1b6da"
            ],
            [
             0.4,
             "#fde0ef"
            ],
            [
             0.5,
             "#f7f7f7"
            ],
            [
             0.6,
             "#e6f5d0"
            ],
            [
             0.7,
             "#b8e186"
            ],
            [
             0.8,
             "#7fbc41"
            ],
            [
             0.9,
             "#4d9221"
            ],
            [
             1,
             "#276419"
            ]
           ],
           "sequential": [
            [
             0,
             "#0d0887"
            ],
            [
             0.1111111111111111,
             "#46039f"
            ],
            [
             0.2222222222222222,
             "#7201a8"
            ],
            [
             0.3333333333333333,
             "#9c179e"
            ],
            [
             0.4444444444444444,
             "#bd3786"
            ],
            [
             0.5555555555555556,
             "#d8576b"
            ],
            [
             0.6666666666666666,
             "#ed7953"
            ],
            [
             0.7777777777777778,
             "#fb9f3a"
            ],
            [
             0.8888888888888888,
             "#fdca26"
            ],
            [
             1,
             "#f0f921"
            ]
           ],
           "sequentialminus": [
            [
             0,
             "#0d0887"
            ],
            [
             0.1111111111111111,
             "#46039f"
            ],
            [
             0.2222222222222222,
             "#7201a8"
            ],
            [
             0.3333333333333333,
             "#9c179e"
            ],
            [
             0.4444444444444444,
             "#bd3786"
            ],
            [
             0.5555555555555556,
             "#d8576b"
            ],
            [
             0.6666666666666666,
             "#ed7953"
            ],
            [
             0.7777777777777778,
             "#fb9f3a"
            ],
            [
             0.8888888888888888,
             "#fdca26"
            ],
            [
             1,
             "#f0f921"
            ]
           ]
          },
          "colorway": [
           "#636efa",
           "#EF553B",
           "#00cc96",
           "#ab63fa",
           "#FFA15A",
           "#19d3f3",
           "#FF6692",
           "#B6E880",
           "#FF97FF",
           "#FECB52"
          ],
          "font": {
           "color": "#2a3f5f"
          },
          "geo": {
           "bgcolor": "white",
           "lakecolor": "white",
           "landcolor": "#E5ECF6",
           "showlakes": true,
           "showland": true,
           "subunitcolor": "white"
          },
          "hoverlabel": {
           "align": "left"
          },
          "hovermode": "closest",
          "mapbox": {
           "style": "light"
          },
          "paper_bgcolor": "white",
          "plot_bgcolor": "#E5ECF6",
          "polar": {
           "angularaxis": {
            "gridcolor": "white",
            "linecolor": "white",
            "ticks": ""
           },
           "bgcolor": "#E5ECF6",
           "radialaxis": {
            "gridcolor": "white",
            "linecolor": "white",
            "ticks": ""
           }
          },
          "scene": {
           "xaxis": {
            "backgroundcolor": "#E5ECF6",
            "gridcolor": "white",
            "gridwidth": 2,
            "linecolor": "white",
            "showbackground": true,
            "ticks": "",
            "zerolinecolor": "white"
           },
           "yaxis": {
            "backgroundcolor": "#E5ECF6",
            "gridcolor": "white",
            "gridwidth": 2,
            "linecolor": "white",
            "showbackground": true,
            "ticks": "",
            "zerolinecolor": "white"
           },
           "zaxis": {
            "backgroundcolor": "#E5ECF6",
            "gridcolor": "white",
            "gridwidth": 2,
            "linecolor": "white",
            "showbackground": true,
            "ticks": "",
            "zerolinecolor": "white"
           }
          },
          "shapedefaults": {
           "line": {
            "color": "#2a3f5f"
           }
          },
          "ternary": {
           "aaxis": {
            "gridcolor": "white",
            "linecolor": "white",
            "ticks": ""
           },
           "baxis": {
            "gridcolor": "white",
            "linecolor": "white",
            "ticks": ""
           },
           "bgcolor": "#E5ECF6",
           "caxis": {
            "gridcolor": "white",
            "linecolor": "white",
            "ticks": ""
           }
          },
          "title": {
           "x": 0.05
          },
          "xaxis": {
           "automargin": true,
           "gridcolor": "white",
           "linecolor": "white",
           "ticks": "",
           "title": {
            "standoff": 15
           },
           "zerolinecolor": "white",
           "zerolinewidth": 2
          },
          "yaxis": {
           "automargin": true,
           "gridcolor": "white",
           "linecolor": "white",
           "ticks": "",
           "title": {
            "standoff": 15
           },
           "zerolinecolor": "white",
           "zerolinewidth": 2
          }
         }
        },
        "title": {
         "text": "EVs - Zone & State"
        },
        "width": 1200
       }
      }
     },
     "metadata": {},
     "output_type": "display_data"
    }
   ],
   "source": [
    "# Display the figure\n",
    "NODES = dict(pad  = 20, thickness = 20, line  = dict(color = \"lightslategrey\", width = 0.5),hovertemplate=\" \",\n",
    "            label = node_labels, x = node_x_pos, y = node_y_pos, color = node_colors)\n",
    "\n",
    "LINKS = dict(source = source, target = target, value = link_values, \n",
    "            label = link_labels, color = link_colors,\n",
    "            hovertemplate=\"%{label}\",)\n",
    "\n",
    "data = go.Sankey( arrangement='snap', node = NODES, link = LINKS)\n",
    "fig = go.Figure(data)\n",
    "fig.update_traces( valueformat='3d', valuesuffix=' %', selector=dict(type='sankey'))\n",
    "fig.update_layout(title=\"EVs - Zone & State\",  font_size=16,  width=1200,height=600,)\n",
    "fig.update_layout(hoverlabel=dict( bgcolor=\"grey\", font_size=14, font_family=\"Rockwell\"))\n",
    "fig.show()"
   ]
  }
 ],
 "metadata": {
  "kernelspec": {
   "display_name": "Python 3",
   "language": "python",
   "name": "python3"
  },
  "language_info": {
   "codemirror_mode": {
    "name": "ipython",
    "version": 3
   },
   "file_extension": ".py",
   "mimetype": "text/x-python",
   "name": "python",
   "nbconvert_exporter": "python",
   "pygments_lexer": "ipython3",
   "version": "3.9.1"
  },
  "orig_nbformat": 4,
  "vscode": {
   "interpreter": {
    "hash": "8f5cca18c9799494215a7356eee331d41ed62dc1329ea9a38d9c7a02923b99ef"
   }
  }
 },
 "nbformat": 4,
 "nbformat_minor": 2
}
